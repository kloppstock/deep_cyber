{
 "cells": [
  {
   "cell_type": "code",
   "execution_count": 30,
   "id": "received-affiliation",
   "metadata": {},
   "outputs": [],
   "source": [
    "from tensorflow.keras.layers import Conv2D, Dense, MaxPooling2D, AveragePooling2D, Flatten, Dropout\n",
    "from tensorflow.keras.models import Sequential\n",
    "from tensorflow.keras.activations import relu, sigmoid, softmax\n",
    "\n",
    "from tensorflow.keras import Input, Model\n",
    "\n",
    "from tensorflow.keras.constraints import max_norm \n",
    "from tensorflow.keras.optimizers import Adam\n",
    "from tensorflow.keras.callbacks import ModelCheckpoint\n",
    "from tensorflow.keras import backend as K\n",
    "\n",
    "from tensorflow.keras.datasets import cifar10\n",
    "\n",
    "import sys\n",
    "import numpy as np\n",
    "import tensorflow as tf\n",
    "\n",
    "import matplotlib.pyplot as plt\n",
    "from matplotlib import colors\n",
    "%matplotlib notebook"
   ]
  },
  {
   "cell_type": "code",
   "execution_count": 31,
   "id": "champion-ivory",
   "metadata": {},
   "outputs": [],
   "source": [
    "# set metaparameters\n",
    "batch_size = 32\n",
    "num_classes = 10\n",
    "epochs = 10\n",
    "\n",
    "# load dataset\n",
    "(x_train, y_train), (x_test, y_test) = cifar10.load_data()"
   ]
  },
  {
   "cell_type": "code",
   "execution_count": 32,
   "id": "short-merchant",
   "metadata": {},
   "outputs": [],
   "source": [
    "# conversion and preprocessing\n",
    "x_train = x_train.astype(np.float32)\n",
    "x_test = x_test.astype(np.float32)\n",
    "x_train /= 255\n",
    "x_test /= 255"
   ]
  },
  {
   "cell_type": "code",
   "execution_count": 35,
   "id": "respective-closure",
   "metadata": {},
   "outputs": [
    {
     "name": "stdout",
     "output_type": "stream",
     "text": [
      "Model: \"cifar10\"\n",
      "_________________________________________________________________\n",
      "Layer (type)                 Output Shape              Param #   \n",
      "=================================================================\n",
      "input_7 (InputLayer)         [(None, 32, 32, 3)]       0         \n",
      "_________________________________________________________________\n",
      "conv2d_32 (Conv2D)           (None, 32, 32, 32)        896       \n",
      "_________________________________________________________________\n",
      "tf.nn.relu_24 (TFOpLambda)   (None, 32, 32, 32)        0         \n",
      "_________________________________________________________________\n",
      "max_pooling2d_28 (MaxPooling (None, 16, 16, 32)        0         \n",
      "_________________________________________________________________\n",
      "conv2d_33 (Conv2D)           (None, 16, 16, 64)        18496     \n",
      "_________________________________________________________________\n",
      "tf.nn.relu_25 (TFOpLambda)   (None, 16, 16, 64)        0         \n",
      "_________________________________________________________________\n",
      "max_pooling2d_29 (MaxPooling (None, 8, 8, 64)          0         \n",
      "_________________________________________________________________\n",
      "conv2d_34 (Conv2D)           (None, 8, 8, 128)         73856     \n",
      "_________________________________________________________________\n",
      "tf.nn.relu_26 (TFOpLambda)   (None, 8, 8, 128)         0         \n",
      "_________________________________________________________________\n",
      "max_pooling2d_30 (MaxPooling (None, 4, 4, 128)         0         \n",
      "_________________________________________________________________\n",
      "conv2d_35 (Conv2D)           (None, 4, 4, 256)         295168    \n",
      "_________________________________________________________________\n",
      "tf.nn.relu_27 (TFOpLambda)   (None, 4, 4, 256)         0         \n",
      "_________________________________________________________________\n",
      "max_pooling2d_31 (MaxPooling (None, 2, 2, 256)         0         \n",
      "_________________________________________________________________\n",
      "flatten_9 (Flatten)          (None, 1024)              0         \n",
      "_________________________________________________________________\n",
      "dense_20 (Dense)             (None, 512)               524800    \n",
      "_________________________________________________________________\n",
      "tf.nn.relu_28 (TFOpLambda)   (None, 512)               0         \n",
      "_________________________________________________________________\n",
      "dense_21 (Dense)             (None, 10)                5130      \n",
      "_________________________________________________________________\n",
      "tf.compat.v1.nn.softmax_5 (T (None, 10)                0         \n",
      "=================================================================\n",
      "Total params: 918,346\n",
      "Trainable params: 918,346\n",
      "Non-trainable params: 0\n",
      "_________________________________________________________________\n"
     ]
    }
   ],
   "source": [
    "# build model\n",
    "inputs = Input(shape=(32, 32, 3))\n",
    "c1 = Conv2D(32, (3, 3), padding=\"same\", input_shape=inputs.shape)\n",
    "c2 = Conv2D(64, (3, 3), padding=\"same\")\n",
    "c3 = Conv2D(128, (3, 3), padding=\"same\")\n",
    "c4 = Conv2D(256, (3, 3), padding=\"same\")\n",
    "\n",
    "d1 = Dense(512)\n",
    "d2 = Dense(num_classes)\n",
    "\n",
    "\n",
    "X = c1(inputs)\n",
    "X = relu(X)\n",
    "X = MaxPooling2D(pool_size=(2, 2))(X)\n",
    "\n",
    "X = c2(X)\n",
    "X = relu(X)\n",
    "X = MaxPooling2D(pool_size=(2, 2))(X)\n",
    "\n",
    "X = c3(X)\n",
    "X = relu(X)\n",
    "X = MaxPooling2D(pool_size=(2, 2))(X)\n",
    "\n",
    "X = c4(X)\n",
    "X = relu(X)\n",
    "X = MaxPooling2D(pool_size=(2, 2))(X)\n",
    "\n",
    "X = Flatten()(X)\n",
    "X = d1(X)\n",
    "X = relu(X)\n",
    "X = d2(X)\n",
    "outputs = softmax(X)\n",
    "\n",
    "model = Model(inputs=inputs, outputs=outputs, name=\"cifar10\")\n",
    "model.compile(loss=\"sparse_categorical_crossentropy\", optimizer=Adam(), metrics=[\"accuracy\"])\n",
    "model.summary()"
   ]
  },
  {
   "cell_type": "code",
   "execution_count": 36,
   "id": "actual-thomas",
   "metadata": {},
   "outputs": [
    {
     "name": "stdout",
     "output_type": "stream",
     "text": [
      "Epoch 1/10\n",
      "1563/1563 [==============================] - 100s 63ms/step - loss: 1.7187 - accuracy: 0.3605 - val_loss: 1.1901 - val_accuracy: 0.5633\n",
      "\n",
      "Epoch 00001: loss improved from inf to 1.46223, saving model to cp.h5\n",
      "Epoch 2/10\n",
      "1563/1563 [==============================] - 98s 63ms/step - loss: 1.0755 - accuracy: 0.6133 - val_loss: 0.9673 - val_accuracy: 0.6625\n",
      "\n",
      "Epoch 00002: loss improved from 1.46223 to 1.01717, saving model to cp.h5\n",
      "Epoch 3/10\n",
      "1563/1563 [==============================] - 109s 69ms/step - loss: 0.8217 - accuracy: 0.7090 - val_loss: 0.8464 - val_accuracy: 0.7090\n",
      "\n",
      "Epoch 00003: loss improved from 1.01717 to 0.81145, saving model to cp.h5\n",
      "Epoch 4/10\n",
      "1563/1563 [==============================] - 110s 70ms/step - loss: 0.6777 - accuracy: 0.7643 - val_loss: 0.7999 - val_accuracy: 0.7304\n",
      "\n",
      "Epoch 00004: loss improved from 0.81145 to 0.67862, saving model to cp.h5\n",
      "Epoch 5/10\n",
      "1563/1563 [==============================] - 107s 68ms/step - loss: 0.5567 - accuracy: 0.8019 - val_loss: 0.7777 - val_accuracy: 0.7326\n",
      "\n",
      "Epoch 00005: loss improved from 0.67862 to 0.57556, saving model to cp.h5\n",
      "Epoch 6/10\n",
      "1563/1563 [==============================] - 98s 63ms/step - loss: 0.4574 - accuracy: 0.8371 - val_loss: 0.8114 - val_accuracy: 0.7375\n",
      "\n",
      "Epoch 00006: loss improved from 0.57556 to 0.47888, saving model to cp.h5\n",
      "Epoch 7/10\n",
      "1563/1563 [==============================] - 95s 61ms/step - loss: 0.3815 - accuracy: 0.8643 - val_loss: 0.8311 - val_accuracy: 0.7455\n",
      "\n",
      "Epoch 00007: loss improved from 0.47888 to 0.40371, saving model to cp.h5\n",
      "Epoch 8/10\n",
      "1563/1563 [==============================] - 94s 60ms/step - loss: 0.3094 - accuracy: 0.8893 - val_loss: 0.8911 - val_accuracy: 0.7421\n",
      "\n",
      "Epoch 00008: loss improved from 0.40371 to 0.33451, saving model to cp.h5\n",
      "Epoch 9/10\n",
      "1563/1563 [==============================] - 99s 63ms/step - loss: 0.2481 - accuracy: 0.9125 - val_loss: 0.9870 - val_accuracy: 0.7392\n",
      "\n",
      "Epoch 00009: loss improved from 0.33451 to 0.27384, saving model to cp.h5\n",
      "Epoch 10/10\n",
      "1563/1563 [==============================] - 96s 62ms/step - loss: 0.2073 - accuracy: 0.9244 - val_loss: 1.0555 - val_accuracy: 0.7355\n",
      "\n",
      "Epoch 00010: loss improved from 0.27384 to 0.23578, saving model to cp.h5\n"
     ]
    },
    {
     "data": {
      "text/plain": [
       "<tensorflow.python.keras.callbacks.History at 0x7f1eaea94a00>"
      ]
     },
     "execution_count": 36,
     "metadata": {},
     "output_type": "execute_result"
    }
   ],
   "source": [
    "# train model\n",
    "checkpoints = [ModelCheckpoint(\"cp.h5\", monitor=\"loss\", verbose=1, save_best_only=True, mode=\"min\")]\n",
    "model.fit(x_train, y_train, batch_size=batch_size, epochs=epochs, validation_data=(x_test, y_test), shuffle=True, callbacks=checkpoints)"
   ]
  },
  {
   "cell_type": "code",
   "execution_count": null,
   "id": "expired-inquiry",
   "metadata": {},
   "outputs": [],
   "source": []
  }
 ],
 "metadata": {
  "kernelspec": {
   "display_name": "Python 3",
   "language": "python",
   "name": "python3"
  },
  "language_info": {
   "codemirror_mode": {
    "name": "ipython",
    "version": 3
   },
   "file_extension": ".py",
   "mimetype": "text/x-python",
   "name": "python",
   "nbconvert_exporter": "python",
   "pygments_lexer": "ipython3",
   "version": "3.9.1"
  }
 },
 "nbformat": 4,
 "nbformat_minor": 5
}
